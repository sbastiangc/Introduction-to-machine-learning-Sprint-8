{
 "cells": [
  {
   "cell_type": "markdown",
   "metadata": {},
   "source": [
    "# Hola Sebastian!\n",
    "\n",
    "Mi nombre es David Bautista, soy code reviewer de TripleTen y voy a revisar el proyecto que acabas de desarrollar.\n",
    "\n",
    "Cuando vea un error la primera vez, lo señalaré. Deberás encontrarlo y arreglarlo. La intención es que te prepares para un espacio real de trabajo. En un trabajo, el líder de tu equipo hará lo mismo. Si no puedes solucionar el error, te daré más información en la próxima ocasión.\n",
    "\n",
    "Encontrarás mis comentarios más abajo - **por favor, no los muevas, no los modifiques ni los borres.**\n",
    "\n",
    "¿Cómo lo voy a hacer? Voy a leer detenidamente cada una de las implementaciones que has llevado a cabo para cumplir con lo solicitado. Verás los comentarios de esta forma:\n",
    "\n",
    "<div class=\"alert alert-block alert-success\">\n",
    "<b>Comentario del revisor</b> <a class=\"tocSkip\"></a>\n",
    "    \n",
    "Si todo está perfecto.\n",
    "</div>\n",
    "\n",
    "\n",
    "<div class=\"alert alert-block alert-warning\">\n",
    "<b>Comentario del revisor</b> <a class=\"tocSkip\"></a>\n",
    "    \n",
    "Si tu código está bien pero se puede mejorar o hay algún detalle que le hace falta.\n",
    "</div>\n",
    "\n",
    "\n",
    "<div class=\"alert alert-block alert-danger\">\n",
    "    \n",
    "<b>Comentario del revisor</b> <a class=\"tocSkip\"></a>\n",
    "    \n",
    "    \n",
    "Si de pronto hace falta algo o existe algún problema con tu código o conclusiones.\n",
    "</div>\n",
    "\n",
    "\n",
    "Puedes responderme de esta forma: \n",
    "\n",
    "<div class=\"alert alert-block alert-info\">\n",
    "<b>Respuesta del estudiante</b> <a class=\"tocSkip\"></a>\n",
    "</div>\n",
    "\n",
    "¡Empecemos!"
   ]
  },
  {
   "cell_type": "markdown",
   "metadata": {},
   "source": [
    "<div class=\"alert alert-block alert-success\">\n",
    "<b>Comentario del revisor  </b> <a class=\"tocSkip\"></a>\n",
    "    \n",
    "# Comentario General\n",
    "    \n",
    "Hola Sebastián. Te felicito por el desarrollo del proyecto, culminaste las diferentes secciones con una muy alta calidad. Buen trabajo.\n",
    "</div>"
   ]
  },
  {
   "cell_type": "markdown",
   "metadata": {},
   "source": [
    "# **Modelo de Clasificación - Megaline: Recomendador de plan**"
   ]
  },
  {
   "cell_type": "markdown",
   "metadata": {},
   "source": [
    "### Descripcion del proyecto:"
   ]
  },
  {
   "cell_type": "markdown",
   "metadata": {},
   "source": [
    "La compañía móvil Megaline no está satisfecha al ver que muchos de sus clientes utilizan planes heredados. Quieren desarrollar un modelo que pueda analizar el comportamiento de los clientes y recomendar uno de los nuevos planes de Megaline: Smart o Ultra.\n",
    "\n",
    "Tienes acceso a los datos de comportamiento de los suscriptores que ya se han cambiado a los planes nuevos (del proyecto del sprint de Análisis estadístico de datos). Para esta tarea de clasificación debes crear un modelo que escoja el plan correcto. Como ya hiciste el paso de procesar los datos, puedes lanzarte directo a crear el modelo.\n",
    "\n",
    "Desarrolla un modelo con la mayor exactitud posible. En este proyecto, el umbral de exactitud es 0.75. Usa el dataset para comprobar la exactitud."
   ]
  },
  {
   "cell_type": "markdown",
   "metadata": {},
   "source": [
    "<div class=\"alert alert-block alert-success\">\n",
    "<b>Comentario del revisor </b> <a class=\"tocSkip\"></a>\n",
    "    \n",
    "Genial, buen trabajo con la introducción del proyecto.  </div>"
   ]
  },
  {
   "cell_type": "markdown",
   "metadata": {
    "toc": true
   },
   "source": [
    "<h1>Tabla de Contenido:<span class=\"tocSkip\"></span></h1>\n",
    "<div class=\"toc\"><ul class=\"toc-item\"><li><span><a href=\"#Descripcion-del-proyecto:\" data-toc-modified-id=\"Descripcion-del-proyecto:-1\"><span class=\"toc-item-num\">1&nbsp;&nbsp;</span>Descripcion del proyecto:</a></span></li><li><span><a href=\"#Importar-datos:\" data-toc-modified-id=\"Importar-datos:-2\"><span class=\"toc-item-num\">2&nbsp;&nbsp;</span>Importar datos:</a></span></li><li><span><a href=\"#Exploración-de-datos:\" data-toc-modified-id=\"Exploración-de-datos:-3\"><span class=\"toc-item-num\">3&nbsp;&nbsp;</span>Exploración de datos:</a></span><ul class=\"toc-item\"><li><span><a href=\"#Tipos-de-datos,-valores-ausentes-y-duplicados\" data-toc-modified-id=\"Tipos-de-datos,-valores-ausentes-y-duplicados-3.1\"><span class=\"toc-item-num\">3.1&nbsp;&nbsp;</span>Tipos de datos, valores ausentes y duplicados</a></span></li><li><span><a href=\"#Exploración-consumo-de-los-usuarios\" data-toc-modified-id=\"Exploración-consumo-de-los-usuarios-3.2\"><span class=\"toc-item-num\">3.2&nbsp;&nbsp;</span>Exploración consumo de los usuarios</a></span></li></ul></li><li><span><a href=\"#Preparar-los-datos-para-el-modelo-de-clasificación:\" data-toc-modified-id=\"Preparar-los-datos-para-el-modelo-de-clasificación:-4\"><span class=\"toc-item-num\">4&nbsp;&nbsp;</span>Preparar los datos para el modelo de clasificación:</a></span><ul class=\"toc-item\"><li><span><a href=\"#Definición-de-Características-y-Objetivo\" data-toc-modified-id=\"Definición-de-Características-y-Objetivo-4.1\"><span class=\"toc-item-num\">4.1&nbsp;&nbsp;</span>Definición de Características y Objetivo</a></span></li><li><span><a href=\"#Segmentación-de-datos\" data-toc-modified-id=\"Segmentación-de-datos-4.2\"><span class=\"toc-item-num\">4.2&nbsp;&nbsp;</span>Segmentación de datos</a></span></li></ul></li><li><span><a href=\"#Modelos-de-clasificación:\" data-toc-modified-id=\"Modelos-de-clasificación:-5\"><span class=\"toc-item-num\">5&nbsp;&nbsp;</span>Modelos de clasificación:</a></span><ul class=\"toc-item\"><li><span><a href=\"#Árbol-de-Decisión\" data-toc-modified-id=\"Árbol-de-Decisión-5.1\"><span class=\"toc-item-num\">5.1&nbsp;&nbsp;</span>Árbol de Decisión</a></span></li><li><span><a href=\"#Bosque-Aleatorio\" data-toc-modified-id=\"Bosque-Aleatorio-5.2\"><span class=\"toc-item-num\">5.2&nbsp;&nbsp;</span>Bosque Aleatorio</a></span></li><li><span><a href=\"#Regresión-logística\" data-toc-modified-id=\"Regresión-logística-5.3\"><span class=\"toc-item-num\">5.3&nbsp;&nbsp;</span>Regresión logística</a></span></li></ul></li><li><span><a href=\"#Comprueba-la-calidad-del-modelo-usando-los-datos-de-prueba:\" data-toc-modified-id=\"Comprueba-la-calidad-del-modelo-usando-los-datos-de-prueba:-6\"><span class=\"toc-item-num\">6&nbsp;&nbsp;</span>Comprueba la calidad del modelo usando los datos de prueba:</a></span></li><li><span><a href=\"#Prueba-de-cordura:\" data-toc-modified-id=\"Prueba-de-cordura:-7\"><span class=\"toc-item-num\">7&nbsp;&nbsp;</span>Prueba de cordura:</a></span><ul class=\"toc-item\"><li><span><a href=\"#Es-mejor-asignar-los-usuarios-por-una-base?\" data-toc-modified-id=\"Es-mejor-asignar-los-usuarios-por-una-base?-7.1\"><span class=\"toc-item-num\">7.1&nbsp;&nbsp;</span>Es mejor asignar los usuarios por una base?</a></span></li><li><span><a href=\"#Es-mejor-DummyClassifier-que-nuestro-modelo?\" data-toc-modified-id=\"Es-mejor-DummyClassifier-que-nuestro-modelo?-7.2\"><span class=\"toc-item-num\">7.2&nbsp;&nbsp;</span>Es mejor DummyClassifier que nuestro modelo?</a></span></li></ul></li><li><span><a href=\"#Conclusion-del-proyecto:\" data-toc-modified-id=\"Conclusion-del-proyecto:-8\"><span class=\"toc-item-num\">8&nbsp;&nbsp;</span><strong>Conclusion del proyecto:</strong></a></span></li></ul></div>"
   ]
  },
  {
   "cell_type": "markdown",
   "metadata": {},
   "source": [
    "<div class=\"alert alert-block alert-success\">\n",
    "<b>Comentario del revisor </b> <a class=\"tocSkip\"></a>\n",
    "    \n",
    "Excelente, buen trabajo con la constricción de esta tabla de contenido.  </div>"
   ]
  },
  {
   "cell_type": "code",
   "execution_count": 1,
   "metadata": {},
   "outputs": [],
   "source": [
    "import pandas as pd\n",
    "import numpy as np\n",
    "import matplotlib.pyplot as plt\n",
    "import seaborn as sb\n",
    "\n",
    "from sklearn.model_selection import train_test_split            # importo test split de Sklearn\n",
    "from sklearn.tree import DecisionTreeClassifier                 # importo arbol de desición\n",
    "from sklearn.ensemble import RandomForestClassifier             # importo Bosque aleatorio \n",
    "from sklearn.linear_model import LogisticRegression             # importo regresion logica\n",
    "\n",
    "\n",
    "\n",
    "# importo las métricas para evaluar el modelo\n",
    "from sklearn.metrics import accuracy_score                                    \n",
    "from sklearn.metrics import confusion_matrix, ConfusionMatrixDisplay       \n",
    "from sklearn.metrics import classification_report                            \n",
    "from sklearn.dummy import DummyClassifier                        # importo DummyClassifier\n"
   ]
  },
  {
   "cell_type": "markdown",
   "metadata": {},
   "source": [
    "<div class=\"alert alert-block alert-success\">\n",
    "<b>Comentario del revisor </b> <a class=\"tocSkip\"></a>\n",
    "    \n",
    "Buen trabajo importando las librerías necesarias para el desarrollo del proyecto. Todo luce muy ordenado.  </div>"
   ]
  },
  {
   "cell_type": "markdown",
   "metadata": {},
   "source": [
    "### Importar datos:"
   ]
  },
  {
   "cell_type": "code",
   "execution_count": 2,
   "metadata": {},
   "outputs": [],
   "source": [
    "# uso read_csv para cargar los datos\n",
    "plan = pd.read_csv('/datasets/users_behavior.csv')"
   ]
  },
  {
   "cell_type": "markdown",
   "metadata": {},
   "source": [
    "<div class=\"alert alert-block alert-success\">\n",
    "<b>Comentario del revisor </b> <a class=\"tocSkip\"></a>\n",
    "    \n",
    "Excelente, buen trabajo con la carga de los datos.  </div>"
   ]
  },
  {
   "cell_type": "markdown",
   "metadata": {},
   "source": [
    "### Exploración de datos:"
   ]
  },
  {
   "cell_type": "markdown",
   "metadata": {},
   "source": [
    "#### Tipos de datos, valores ausentes y duplicados"
   ]
  },
  {
   "cell_type": "code",
   "execution_count": 3,
   "metadata": {},
   "outputs": [
    {
     "data": {
      "text/html": [
       "<div>\n",
       "<style scoped>\n",
       "    .dataframe tbody tr th:only-of-type {\n",
       "        vertical-align: middle;\n",
       "    }\n",
       "\n",
       "    .dataframe tbody tr th {\n",
       "        vertical-align: top;\n",
       "    }\n",
       "\n",
       "    .dataframe thead th {\n",
       "        text-align: right;\n",
       "    }\n",
       "</style>\n",
       "<table border=\"1\" class=\"dataframe\">\n",
       "  <thead>\n",
       "    <tr style=\"text-align: right;\">\n",
       "      <th></th>\n",
       "      <th>calls</th>\n",
       "      <th>minutes</th>\n",
       "      <th>messages</th>\n",
       "      <th>mb_used</th>\n",
       "      <th>is_ultra</th>\n",
       "    </tr>\n",
       "  </thead>\n",
       "  <tbody>\n",
       "    <tr>\n",
       "      <th>0</th>\n",
       "      <td>40.0</td>\n",
       "      <td>311.90</td>\n",
       "      <td>83.0</td>\n",
       "      <td>19915.42</td>\n",
       "      <td>0</td>\n",
       "    </tr>\n",
       "    <tr>\n",
       "      <th>1</th>\n",
       "      <td>85.0</td>\n",
       "      <td>516.75</td>\n",
       "      <td>56.0</td>\n",
       "      <td>22696.96</td>\n",
       "      <td>0</td>\n",
       "    </tr>\n",
       "    <tr>\n",
       "      <th>2</th>\n",
       "      <td>77.0</td>\n",
       "      <td>467.66</td>\n",
       "      <td>86.0</td>\n",
       "      <td>21060.45</td>\n",
       "      <td>0</td>\n",
       "    </tr>\n",
       "    <tr>\n",
       "      <th>3</th>\n",
       "      <td>106.0</td>\n",
       "      <td>745.53</td>\n",
       "      <td>81.0</td>\n",
       "      <td>8437.39</td>\n",
       "      <td>1</td>\n",
       "    </tr>\n",
       "    <tr>\n",
       "      <th>4</th>\n",
       "      <td>66.0</td>\n",
       "      <td>418.74</td>\n",
       "      <td>1.0</td>\n",
       "      <td>14502.75</td>\n",
       "      <td>0</td>\n",
       "    </tr>\n",
       "  </tbody>\n",
       "</table>\n",
       "</div>"
      ],
      "text/plain": [
       "   calls  minutes  messages   mb_used  is_ultra\n",
       "0   40.0   311.90      83.0  19915.42         0\n",
       "1   85.0   516.75      56.0  22696.96         0\n",
       "2   77.0   467.66      86.0  21060.45         0\n",
       "3  106.0   745.53      81.0   8437.39         1\n",
       "4   66.0   418.74       1.0  14502.75         0"
      ]
     },
     "execution_count": 3,
     "metadata": {},
     "output_type": "execute_result"
    }
   ],
   "source": [
    "# uso head para ver los datos \n",
    "plan.head()"
   ]
  },
  {
   "cell_type": "code",
   "execution_count": 4,
   "metadata": {},
   "outputs": [
    {
     "name": "stdout",
     "output_type": "stream",
     "text": [
      "<class 'pandas.core.frame.DataFrame'>\n",
      "RangeIndex: 3214 entries, 0 to 3213\n",
      "Data columns (total 5 columns):\n",
      " #   Column    Non-Null Count  Dtype  \n",
      "---  ------    --------------  -----  \n",
      " 0   calls     3214 non-null   float64\n",
      " 1   minutes   3214 non-null   float64\n",
      " 2   messages  3214 non-null   float64\n",
      " 3   mb_used   3214 non-null   float64\n",
      " 4   is_ultra  3214 non-null   int64  \n",
      "dtypes: float64(4), int64(1)\n",
      "memory usage: 125.7 KB\n"
     ]
    }
   ],
   "source": [
    "# uso info para analizar los tipos de datos\n",
    "plan.info()"
   ]
  },
  {
   "cell_type": "markdown",
   "metadata": {},
   "source": [
    "**Observación:**\n",
    "\n",
    "Las columnas `calls` y `minutes` tienen los tipos de datos float, se convertirán a tipo int."
   ]
  },
  {
   "cell_type": "code",
   "execution_count": 5,
   "metadata": {},
   "outputs": [],
   "source": [
    "# convertir tipo de datos a int con el uso de astype\n",
    "plan['calls'] = plan['calls'].astype(int)\n",
    "plan['messages'] = plan['messages'].astype(int)"
   ]
  },
  {
   "cell_type": "code",
   "execution_count": 6,
   "metadata": {},
   "outputs": [
    {
     "data": {
      "text/plain": [
       "calls         int64\n",
       "minutes     float64\n",
       "messages      int64\n",
       "mb_used     float64\n",
       "is_ultra      int64\n",
       "dtype: object"
      ]
     },
     "execution_count": 6,
     "metadata": {},
     "output_type": "execute_result"
    }
   ],
   "source": [
    "# compruebo los nuevos tipos de datos\n",
    "plan.dtypes"
   ]
  },
  {
   "cell_type": "markdown",
   "metadata": {},
   "source": [
    "**Datos ausentes o duplicados:**"
   ]
  },
  {
   "cell_type": "code",
   "execution_count": 7,
   "metadata": {},
   "outputs": [
    {
     "data": {
      "text/plain": [
       "calls       0\n",
       "minutes     0\n",
       "messages    0\n",
       "mb_used     0\n",
       "is_ultra    0\n",
       "dtype: int64"
      ]
     },
     "execution_count": 7,
     "metadata": {},
     "output_type": "execute_result"
    }
   ],
   "source": [
    "# verifico si existen valores ausentes\n",
    "plan.isna().sum()"
   ]
  },
  {
   "cell_type": "code",
   "execution_count": 8,
   "metadata": {},
   "outputs": [
    {
     "data": {
      "text/plain": [
       "0"
      ]
     },
     "execution_count": 8,
     "metadata": {},
     "output_type": "execute_result"
    }
   ],
   "source": [
    "# verifico si existen valores duplicados\n",
    "plan.duplicated().sum()"
   ]
  },
  {
   "cell_type": "markdown",
   "metadata": {},
   "source": [
    "**Observaciones plan:**\n",
    "\n",
    "- Se identificaron errores de tipo de datos para `calls` y `minutes`, se convirtieron a int.\n",
    "- No existen valores ausentes para la información de consumo de los usuarios.\n",
    "- No existen valores duplicados en la tabla."
   ]
  },
  {
   "cell_type": "markdown",
   "metadata": {},
   "source": [
    "#### Exploración consumo de los usuarios"
   ]
  },
  {
   "cell_type": "code",
   "execution_count": 9,
   "metadata": {},
   "outputs": [
    {
     "data": {
      "text/html": [
       "<div>\n",
       "<style scoped>\n",
       "    .dataframe tbody tr th:only-of-type {\n",
       "        vertical-align: middle;\n",
       "    }\n",
       "\n",
       "    .dataframe tbody tr th {\n",
       "        vertical-align: top;\n",
       "    }\n",
       "\n",
       "    .dataframe thead th {\n",
       "        text-align: right;\n",
       "    }\n",
       "</style>\n",
       "<table border=\"1\" class=\"dataframe\">\n",
       "  <thead>\n",
       "    <tr style=\"text-align: right;\">\n",
       "      <th></th>\n",
       "      <th>calls</th>\n",
       "      <th>minutes</th>\n",
       "      <th>messages</th>\n",
       "      <th>mb_used</th>\n",
       "      <th>is_ultra</th>\n",
       "    </tr>\n",
       "  </thead>\n",
       "  <tbody>\n",
       "    <tr>\n",
       "      <th>count</th>\n",
       "      <td>3214.000000</td>\n",
       "      <td>3214.000000</td>\n",
       "      <td>3214.000000</td>\n",
       "      <td>3214.000000</td>\n",
       "      <td>3214.000000</td>\n",
       "    </tr>\n",
       "    <tr>\n",
       "      <th>mean</th>\n",
       "      <td>63.038892</td>\n",
       "      <td>438.208787</td>\n",
       "      <td>38.281269</td>\n",
       "      <td>17207.673836</td>\n",
       "      <td>0.306472</td>\n",
       "    </tr>\n",
       "    <tr>\n",
       "      <th>std</th>\n",
       "      <td>33.236368</td>\n",
       "      <td>234.569872</td>\n",
       "      <td>36.148326</td>\n",
       "      <td>7570.968246</td>\n",
       "      <td>0.461100</td>\n",
       "    </tr>\n",
       "    <tr>\n",
       "      <th>min</th>\n",
       "      <td>0.000000</td>\n",
       "      <td>0.000000</td>\n",
       "      <td>0.000000</td>\n",
       "      <td>0.000000</td>\n",
       "      <td>0.000000</td>\n",
       "    </tr>\n",
       "    <tr>\n",
       "      <th>25%</th>\n",
       "      <td>40.000000</td>\n",
       "      <td>274.575000</td>\n",
       "      <td>9.000000</td>\n",
       "      <td>12491.902500</td>\n",
       "      <td>0.000000</td>\n",
       "    </tr>\n",
       "    <tr>\n",
       "      <th>50%</th>\n",
       "      <td>62.000000</td>\n",
       "      <td>430.600000</td>\n",
       "      <td>30.000000</td>\n",
       "      <td>16943.235000</td>\n",
       "      <td>0.000000</td>\n",
       "    </tr>\n",
       "    <tr>\n",
       "      <th>75%</th>\n",
       "      <td>82.000000</td>\n",
       "      <td>571.927500</td>\n",
       "      <td>57.000000</td>\n",
       "      <td>21424.700000</td>\n",
       "      <td>1.000000</td>\n",
       "    </tr>\n",
       "    <tr>\n",
       "      <th>max</th>\n",
       "      <td>244.000000</td>\n",
       "      <td>1632.060000</td>\n",
       "      <td>224.000000</td>\n",
       "      <td>49745.730000</td>\n",
       "      <td>1.000000</td>\n",
       "    </tr>\n",
       "  </tbody>\n",
       "</table>\n",
       "</div>"
      ],
      "text/plain": [
       "             calls      minutes     messages       mb_used     is_ultra\n",
       "count  3214.000000  3214.000000  3214.000000   3214.000000  3214.000000\n",
       "mean     63.038892   438.208787    38.281269  17207.673836     0.306472\n",
       "std      33.236368   234.569872    36.148326   7570.968246     0.461100\n",
       "min       0.000000     0.000000     0.000000      0.000000     0.000000\n",
       "25%      40.000000   274.575000     9.000000  12491.902500     0.000000\n",
       "50%      62.000000   430.600000    30.000000  16943.235000     0.000000\n",
       "75%      82.000000   571.927500    57.000000  21424.700000     1.000000\n",
       "max     244.000000  1632.060000   224.000000  49745.730000     1.000000"
      ]
     },
     "execution_count": 9,
     "metadata": {},
     "output_type": "execute_result"
    }
   ],
   "source": [
    "# uso describe() para explorar los datos\n",
    "plan.describe()"
   ]
  },
  {
   "cell_type": "markdown",
   "metadata": {},
   "source": [
    "**Observaciones:**\n",
    "\n",
    "Plans contiene 5 columnas: `calls`, `minutes`,`messages` y `mb_used` nos permiten analizar los datos de consumo de los usuarios de Megaline para cada servicio, por otra parte `is_ultra` nos permite conocer si el usuario tiene o no plan ultra el cual será nuestro objetivo para clasificar a los usuarios en cada uno de los planes Smart o Ultra.\n",
    "\n",
    "- la tabla contiene 3214 usuarios.\n",
    "- el promedio de llamadas es 63 con una duracion de 438 minutos.\n",
    "- el uso de mensajes en promedio es de 38.\n",
    "- el uso de datos es en promedio 17,207 Mb."
   ]
  },
  {
   "cell_type": "markdown",
   "metadata": {},
   "source": [
    "<div class=\"alert alert-block alert-success\">\n",
    "<b>Comentario del revisor </b> <a class=\"tocSkip\"></a>\n",
    "    \n",
    "Perfecto, muy buen trabajo con el desarrollo de esta exploración inicial de los datos. Utilizas los componentes necesarios para que el estudio sea completo e interesante.   </div>"
   ]
  },
  {
   "cell_type": "markdown",
   "metadata": {},
   "source": [
    "### Preparar los datos para el modelo de clasificación:"
   ]
  },
  {
   "cell_type": "markdown",
   "metadata": {},
   "source": [
    "#### Definición de Características y Objetivo"
   ]
  },
  {
   "cell_type": "code",
   "execution_count": 10,
   "metadata": {},
   "outputs": [],
   "source": [
    "# uso drop para eliminar la columna objetivo de las características\n",
    "# defino el objetivo como la columna is_ultra\n",
    "\n",
    "features = plan.drop(['is_ultra'], axis =1)\n",
    "target = plan['is_ultra']"
   ]
  },
  {
   "cell_type": "code",
   "execution_count": 11,
   "metadata": {},
   "outputs": [
    {
     "data": {
      "text/html": [
       "<div>\n",
       "<style scoped>\n",
       "    .dataframe tbody tr th:only-of-type {\n",
       "        vertical-align: middle;\n",
       "    }\n",
       "\n",
       "    .dataframe tbody tr th {\n",
       "        vertical-align: top;\n",
       "    }\n",
       "\n",
       "    .dataframe thead th {\n",
       "        text-align: right;\n",
       "    }\n",
       "</style>\n",
       "<table border=\"1\" class=\"dataframe\">\n",
       "  <thead>\n",
       "    <tr style=\"text-align: right;\">\n",
       "      <th></th>\n",
       "      <th>calls</th>\n",
       "      <th>minutes</th>\n",
       "      <th>messages</th>\n",
       "      <th>mb_used</th>\n",
       "    </tr>\n",
       "  </thead>\n",
       "  <tbody>\n",
       "    <tr>\n",
       "      <th>0</th>\n",
       "      <td>40</td>\n",
       "      <td>311.90</td>\n",
       "      <td>83</td>\n",
       "      <td>19915.42</td>\n",
       "    </tr>\n",
       "    <tr>\n",
       "      <th>1</th>\n",
       "      <td>85</td>\n",
       "      <td>516.75</td>\n",
       "      <td>56</td>\n",
       "      <td>22696.96</td>\n",
       "    </tr>\n",
       "    <tr>\n",
       "      <th>2</th>\n",
       "      <td>77</td>\n",
       "      <td>467.66</td>\n",
       "      <td>86</td>\n",
       "      <td>21060.45</td>\n",
       "    </tr>\n",
       "    <tr>\n",
       "      <th>3</th>\n",
       "      <td>106</td>\n",
       "      <td>745.53</td>\n",
       "      <td>81</td>\n",
       "      <td>8437.39</td>\n",
       "    </tr>\n",
       "    <tr>\n",
       "      <th>4</th>\n",
       "      <td>66</td>\n",
       "      <td>418.74</td>\n",
       "      <td>1</td>\n",
       "      <td>14502.75</td>\n",
       "    </tr>\n",
       "  </tbody>\n",
       "</table>\n",
       "</div>"
      ],
      "text/plain": [
       "   calls  minutes  messages   mb_used\n",
       "0     40   311.90        83  19915.42\n",
       "1     85   516.75        56  22696.96\n",
       "2     77   467.66        86  21060.45\n",
       "3    106   745.53        81   8437.39\n",
       "4     66   418.74         1  14502.75"
      ]
     },
     "execution_count": 11,
     "metadata": {},
     "output_type": "execute_result"
    }
   ],
   "source": [
    "# verifico que la tabla de características es correcta\n",
    "features.head()"
   ]
  },
  {
   "cell_type": "markdown",
   "metadata": {},
   "source": [
    "**Caracteristicas:**\n",
    "\n",
    "Las columnas `calls`, `minutes`,`messages` y `mb_used` serán usadas como las columnas que determinaran el tipo de plan del usuario en nuestro modelo."
   ]
  },
  {
   "cell_type": "code",
   "execution_count": 12,
   "metadata": {},
   "outputs": [
    {
     "data": {
      "text/plain": [
       "0    0\n",
       "1    0\n",
       "2    0\n",
       "3    1\n",
       "4    0\n",
       "Name: is_ultra, dtype: int64"
      ]
     },
     "execution_count": 12,
     "metadata": {},
     "output_type": "execute_result"
    }
   ],
   "source": [
    "# verifico que la tabla objetivo es correcta\n",
    "target.head()"
   ]
  },
  {
   "cell_type": "markdown",
   "metadata": {},
   "source": [
    "**Objetivo:**\n",
    "\n",
    "La columna `is_ultra` sera utilizada como el objetivo en nuestro modelo de clasificación, con el uso de las columnas de características se determinará el plan del usuario de la siguiente forma (1 = ultra y 0 = smart)"
   ]
  },
  {
   "cell_type": "markdown",
   "metadata": {},
   "source": [
    "#### Segmentación de datos"
   ]
  },
  {
   "cell_type": "code",
   "execution_count": 13,
   "metadata": {},
   "outputs": [],
   "source": [
    "#uso train_test_split para dividir los datos en entrenamiento y prueba con 20%\n",
    "features_train, features_test, target_train, target_test = train_test_split(features, target, test_size=0.2, random_state=300)\n",
    "\n",
    "#uso train_test_split para dividir los datos en entrenamiento y validación con 25%\n",
    "features_train, features_valid, target_train, target_valid = train_test_split(features_train, target_train, test_size=0.25, random_state=300)\n"
   ]
  },
  {
   "cell_type": "code",
   "execution_count": 14,
   "metadata": {},
   "outputs": [
    {
     "name": "stdout",
     "output_type": "stream",
     "text": [
      "features_train: (1928, 4)\n",
      "target_train: (1928,)\n",
      "\n",
      "features_test (643, 4)\n",
      "target_test (643,)\n",
      "\n",
      "features_valid (643, 4)\n",
      "target_valid (643,)\n"
     ]
    }
   ],
   "source": [
    "#verifco el tamaño de los segmentos de prueba\n",
    "print('features_train:', features_train.shape)\n",
    "print('target_train:', target_train.shape)\n",
    "print('')\n",
    "print('features_test', features_test.shape)\n",
    "print('target_test', target_test.shape)\n",
    "print('')\n",
    "print('features_valid', features_valid.shape)\n",
    "print('target_valid', target_valid.shape)\n"
   ]
  },
  {
   "cell_type": "markdown",
   "metadata": {},
   "source": [
    "**Observación:**\n",
    "- Los tamaños de cada segmento corresponden a **60% para entrenamiento, 20% prueba y 20% validación de la tabla original**.\n",
    "- los segmentos de **características** tienen: **calls, minutes,messages y mb_used.**\n",
    "- Los segmentos de **objetivo** solo tienen la columna **is_ultra.**\n"
   ]
  },
  {
   "cell_type": "markdown",
   "metadata": {},
   "source": [
    "### Modelos de clasificación: "
   ]
  },
  {
   "cell_type": "markdown",
   "metadata": {},
   "source": [
    "#### Árbol de Decisión "
   ]
  },
  {
   "cell_type": "markdown",
   "metadata": {},
   "source": [
    "Se analizará el modelo árbol de decisión con la mejor combinación de 3 hiperparámetros, profundidad, características y hojas."
   ]
  },
  {
   "cell_type": "code",
   "execution_count": 15,
   "metadata": {
    "scrolled": true
   },
   "outputs": [
    {
     "name": "stdout",
     "output_type": "stream",
     "text": [
      "Profundidad: 15\n",
      "Características: 4\n",
      "Hojas: 10\n",
      "Exactitud del árbol para el set de validación: 76.98%\n"
     ]
    }
   ],
   "source": [
    "# Defino las variables para encontrar la mejor combinación de hiperparámetros\n",
    "\n",
    "top_result = 0                                      # mejor resultado\n",
    "top_depth = 0                                       # mejor profundidad\n",
    "top_leaves = 0                                      # mejores hojas\n",
    "top_features = 0                                    # mejores características \n",
    "\n",
    "\n",
    "float_formatter = \"{:.2%}\".format                   # formatear los resultados en % \n",
    "\n",
    "# modelo de árbol de decisión\n",
    "\n",
    "for depth in range(1, 16):                          # creo for para la profundidad\n",
    "    for features in range(1, 5):                    # creo for para las características \n",
    "        for leave in range(1, 11):                  # creo for para las hojas                                               \n",
    "        \n",
    "             model = DecisionTreeClassifier(\n",
    "                    max_depth=depth,                # rango de profundidad 15 niveles\n",
    "                    min_samples_leaf=leave,         # hojas a probar 10\n",
    "                    max_features=features,          # características a considerar 5\n",
    "                    random_state=300)               \n",
    "        \n",
    "        # entrenar al modelo con model.fit y calcular su exactitud con datos de validación\n",
    "             model.fit(features_train, target_train)                           \n",
    "             predictions_valid = model.score(features_valid, target_valid)  \n",
    "    \n",
    "        # imprimir resultados de cada iteración\n",
    "            #print(model, float_formatter(predictions_valid))\n",
    "            \n",
    "if predictions_valid > top_result:                   # if para el mejor resultado y parámetros \n",
    "    top_result = predictions_valid                                                   \n",
    "    top_depth = depth\n",
    "    top_leaves = leave\n",
    "    top_features = features\n",
    "    \n",
    "\n",
    "print('Profundidad:', top_depth)                     # imprimir mejor profundidad\n",
    "print('Características:', features)                  # imprimir características\n",
    "print('Hojas:', top_leaves)                          # imprimir hojas                                      \n",
    "\n",
    "# imprimir exactitud con datos de validación\n",
    "print(\"Exactitud del árbol para el set de validación:\", float_formatter(top_result)) "
   ]
  },
  {
   "cell_type": "markdown",
   "metadata": {},
   "source": [
    "**Observación:**\n",
    "1) Los hiperparámetros usados fueron **(max_depth = 15, min_samples_leaf = 10, max_features = 4)** para obtener la exactitud más alta en **los datos de validación 76.98%**\n",
    "\n",
    "2) El modelo cumple con el umbral de exactitud (75%), y se tomara en cuenta.   "
   ]
  },
  {
   "cell_type": "markdown",
   "metadata": {},
   "source": [
    "#### Bosque Aleatorio"
   ]
  },
  {
   "cell_type": "markdown",
   "metadata": {},
   "source": [
    "Se analizará el modelo bosque aleatorio con la mejor combinación de 4 hiperparámetros, estimadores, profundidad, características y hojas."
   ]
  },
  {
   "cell_type": "code",
   "execution_count": 16,
   "metadata": {},
   "outputs": [
    {
     "name": "stdout",
     "output_type": "stream",
     "text": [
      "Estimadores: 9\n",
      "Profundidad: 5\n",
      "Características : 4\n",
      "Hojas: 5\n",
      "Exactitud del bosque para el set de validación: 79.16%\n"
     ]
    }
   ],
   "source": [
    "# Defino las variables para encontrar la mejor combinación de hiperparámetros\n",
    "\n",
    "f_top_forest_result = 0                               # mejor resultado\n",
    "f_top_estimators = 0                                  # número de estimadores\n",
    "f_top_depth = 0                                       # mejor profundidad\n",
    "f_top_leaves = 0                                      # mejores hojas\n",
    "f_top_features = 0                                    # mejores características \n",
    "\n",
    "float_formatter = \"{:.2%}\".format                     # formatear los resultados en % \n",
    "\n",
    "# modelo de bosque aleatorio\n",
    "\n",
    "for estimator in range(1, 10):                        # creo for para los estimadores\n",
    "    for depth in range(1, 6):                         # imprimir mejor profundidad\n",
    "        for leave in range(1, 6):                     # creo for para las hojas  \n",
    "            for feature in range(1, 5):               # creo for para las características \n",
    "                \n",
    "                model = RandomForestClassifier(      \n",
    "                    n_estimators=estimator,           # estimadores\n",
    "                    max_depth=depth,                  # rango de profundidad 5 niveles\n",
    "                    min_samples_leaf=leave,           # hojas a probar 5\n",
    "                    max_features=feature,             # características a considerar \n",
    "                    random_state=300\n",
    "                    )\n",
    "                 # entrenar al modelo con model.fit y calcular su exactitud con datos de validación\n",
    "                model.fit(features_train, target_train)\n",
    "                predictions_valid = model.score(features_valid, target_valid)\n",
    "                \n",
    "                # imprimir resultados de cada iteración\n",
    "                #print(model, predictions_valid)\n",
    "\n",
    "\n",
    "if predictions_valid > f_top_forest_result:           # if para el mejor resultado \n",
    "    f_top_forest_result = predictions_valid                                                   \n",
    "    f_top_estimators = estimator\n",
    "    f_top_depth = depth\n",
    "    f_top_leaves = leave\n",
    "    f_top_features = feature\n",
    "\n",
    "    \n",
    "print('Estimadores:', f_top_estimators)               # imprimir mejores estimadores\n",
    "print('Profundidad:', f_top_depth)                    # imprimir mejor profundidad\n",
    "print('Características :', f_top_features)             # imprimir características\n",
    "print('Hojas:', f_top_leaves)                         # imprimir hojas \n",
    "\n",
    "# imprimir exactitud con datos de validación\n",
    "print(\"Exactitud del bosque para el set de validación:\", float_formatter(f_top_forest_result))"
   ]
  },
  {
   "cell_type": "markdown",
   "metadata": {},
   "source": [
    "**Observaciones:**\n",
    "\n",
    "1) Los hiperparámetros usados fueron **(n_estimators = 9, max_depth = 5, min_samples_leaf = 5, max_features = 4)** para obtener la exactitud más alta en **los datos de validación 79.16%**. Es mejor que la exactitud del mejor árbol analizado previamente.\n",
    "\n",
    "2) El modelo cumple con el umbral de exactitud (75%), y se tomara en cuenta.\n"
   ]
  },
  {
   "cell_type": "markdown",
   "metadata": {},
   "source": [
    "#### Regresión logística"
   ]
  },
  {
   "cell_type": "markdown",
   "metadata": {},
   "source": [
    "Se analizara el modelo de regresión logística con la mejor combinación de 2 hiperparámetros, penalty & class weight"
   ]
  },
  {
   "cell_type": "code",
   "execution_count": 17,
   "metadata": {},
   "outputs": [
    {
     "name": "stdout",
     "output_type": "stream",
     "text": [
      "solver: liblinear\n",
      "penalty: l1\n",
      "class_weight: None\n",
      "Exactitud Regresión logística para el set de validación: 72.01%\n"
     ]
    }
   ],
   "source": [
    "# Defino las variables para encontrar la mejor combinación de hiperparámetros\n",
    "\n",
    "log_top_restult = 0                                     # mejor resultado\n",
    "top_solver = None                                       # sera constante\n",
    "top_penalty = None                                      # mejor penalty  \n",
    "top_class_weight = 0                                    # mejor peso de clase\n",
    "\n",
    "\n",
    "solvers = ['liblinear']                                 # solver constante \n",
    "penaltys = ['l1', 'l2']                                 # probar L1 y L2\n",
    "class_weight = ['balanced', None]                       # probar balanced y none\n",
    "\n",
    "for solver in solvers:                                  \n",
    "    for penalty in penaltys:                            # creo for para penalty\n",
    "        for class_w in class_weight:                    # creo for para peso de clase\n",
    "\n",
    "            model = LogisticRegression(                 \n",
    "                solver= solver, \n",
    "                penalty = penalty,                      # penalty: 2 pruebas\n",
    "                class_weight = class_w,                 # peso de clase: 2 prebas\n",
    "                random_state=300)\n",
    "\n",
    "        # entrenar al modelo con model.fit y calcular su exactitud con datos de validación\n",
    "            model.fit(features_train, target_train)\n",
    "            predictions_valid = model.score(features_valid,target_valid)\n",
    "            \n",
    "        # imprimir resultados de cada iteración  \n",
    "            #print(model, predictions_valid)\n",
    "\n",
    "            if predictions_valid > log_top_restult:     # if para el mejor resultado \n",
    "                log_top_restult = predictions_valid                                                   \n",
    "                top_penalty = penalty\n",
    "                top_class_weight = class_w\n",
    "\n",
    "            \n",
    "\n",
    "\n",
    "print('solver:', solver)                                # imprimir solver\n",
    "print('penalty:', top_penalty)                          # imprimir penalty\n",
    "print('class_weight:', top_class_weight)                # imprimir peso de clase\n",
    "\n",
    "# imprimir exactitud con datos de validación\n",
    "print(\"Exactitud Regresión logística para el set de validación:\", float_formatter(log_top_restult)) "
   ]
  },
  {
   "cell_type": "markdown",
   "metadata": {},
   "source": [
    "<div class=\"alert alert-block alert-success\">\n",
    "<b>Comentario del revisor </b> <a class=\"tocSkip\"></a>\n",
    "    \n",
    "Muy buen trabajo con el despliegue de los tres modelos, genial que apliques bucles anidados para optimizar los hiperparámetros. </div>"
   ]
  },
  {
   "cell_type": "markdown",
   "metadata": {},
   "source": [
    "**Observación:** \n",
    "La mejor regresión logística **no cumple con el umbral de exactitud de 75%** por lo que este modelo no será tomado en cuenta, no representa algún beneficio sobre árbol o bosque que demostraron ser mejores."
   ]
  },
  {
   "cell_type": "markdown",
   "metadata": {},
   "source": [
    "### Comprueba la calidad del modelo usando los datos de prueba:"
   ]
  },
  {
   "cell_type": "markdown",
   "metadata": {},
   "source": [
    "Según el análisis el mejor modelo con los datos de validación fue el **bosque aleatorio con 79.16%,** ahora se evaluara con el conjunto de prueba:\n",
    "\n",
    "Hiperpárametros bosque:\n",
    "\n",
    "- n_estimators = 9\n",
    "- max_depth=5\n",
    "- min_samples_leaf=5\n",
    "- max_features=4\n",
    "- random_state=300"
   ]
  },
  {
   "cell_type": "code",
   "execution_count": 18,
   "metadata": {},
   "outputs": [
    {
     "name": "stdout",
     "output_type": "stream",
     "text": [
      "Exactitud del bosque para el set de validación: 79.16%\n",
      "Exactitud del bosque para el set de prueba: 77.14%\n"
     ]
    }
   ],
   "source": [
    "# defino bosque aleatorio con los mejores hiperparámetros \n",
    "\n",
    "rfc = RandomForestClassifier(\n",
    "                    n_estimators = 9,\n",
    "                    max_depth=5,\n",
    "                    min_samples_leaf=5,\n",
    "                    max_features=4,\n",
    "                    random_state=300)               \n",
    "        \n",
    "rfc.fit(features_train, target_train)                              # entrar el modelo \n",
    "rfc_predictions_valid = rfc.score(features_valid, target_valid)    # validación\n",
    "rfc_predictions_test = rfc.score(features_test, target_test)       # datos de prueba\n",
    "\n",
    "y_valid = rfc.predict(features_valid)                # predicciones con datos de validación \n",
    "y_test = rfc.predict(features_test)                  # predicciones con datos de prueba\n",
    "\n",
    "\n",
    "  \n",
    "print(\"Exactitud del bosque para el set de validación:\", float_formatter(rfc_predictions_valid)) \n",
    "print(\"Exactitud del bosque para el set de prueba:\", float_formatter(rfc_predictions_test)) \n"
   ]
  },
  {
   "cell_type": "markdown",
   "metadata": {},
   "source": [
    "**Observaciones:**\n",
    "1) Utilizando los datos de prueba se obtuvo una **exactitud de 77.14%**, podemos confirmar la calidad del modelo.\n",
    "\n",
    "2) Comparando con los datos de validación **la exactitud fue menor (-2.02%)** esto suele indicar un sobre ajuste del modelo, **sin embargo cumple con la expectativa de +75%**\n",
    "\n",
    "3) Usaremos ahora métricas como matriz de confusión y reporte de clasificación para entender mejor el funcionamiento el modelo.\n"
   ]
  },
  {
   "cell_type": "code",
   "execution_count": 19,
   "metadata": {
    "scrolled": false
   },
   "outputs": [
    {
     "data": {
      "text/plain": [
       "Text(0.5, 1.0, 'Matriz de confusión mejor bosque')"
      ]
     },
     "execution_count": 19,
     "metadata": {},
     "output_type": "execute_result"
    },
    {
     "data": {
      "image/png": "[encoded data removed]",
      "text/plain": [
       "<Figure size 432x288 with 2 Axes>"
      ]
     },
     "metadata": {
      "needs_background": "light"
     },
     "output_type": "display_data"
    }
   ],
   "source": [
    "# Uso confusion matrix para analizar la exactitud de la clasificación\n",
    "# defino cm como matriz de confusión\n",
    "cm = confusion_matrix(y_test,y_valid)\n",
    "\n",
    "# uso matrix display para graficar cm\n",
    "ConfusionMatrixDisplay(confusion_matrix=cm).plot()\n",
    "plt.title(\"Matriz de confusión mejor bosque\")"
   ]
  },
  {
   "cell_type": "markdown",
   "metadata": {},
   "source": [
    "**Observaciones:** \n",
    "1) **430 verdaderos positivos, 25 verdaderos negativos** lo cual indica un **70% de clasificación correcta.**\n",
    "\n",
    "2) los datos restantes **30%, fueron falsos positivos o falsos negativos.**\n"
   ]
  },
  {
   "cell_type": "code",
   "execution_count": 20,
   "metadata": {
    "scrolled": true
   },
   "outputs": [
    {
     "name": "stdout",
     "output_type": "stream",
     "text": [
      "              precision    recall  f1-score   support\n",
      "\n",
      "           0       0.83      0.81      0.82       533\n",
      "           1       0.20      0.23      0.21       110\n",
      "\n",
      "    accuracy                           0.71       643\n",
      "   macro avg       0.52      0.52      0.52       643\n",
      "weighted avg       0.73      0.71      0.72       643\n",
      "\n"
     ]
    }
   ],
   "source": [
    "# uso classification report para analizar las métricas de clasificación\n",
    "print(classification_report(y_test,y_valid))"
   ]
  },
  {
   "cell_type": "code",
   "execution_count": 21,
   "metadata": {
    "scrolled": true
   },
   "outputs": [
    {
     "data": {
      "image/png": "[encoded data removed]",
      "text/plain": [
       "<Figure size 864x288 with 1 Axes>"
      ]
     },
     "metadata": {
      "needs_background": "light"
     },
     "output_type": "display_data"
    }
   ],
   "source": [
    "# uso feature_importances para conocer las características más importantes para el modelo\n",
    "# creo un dataframe con los resultados de las características\n",
    "\n",
    "rfc_var = pd.DataFrame(rfc.feature_importances_, index = features_valid.columns)\n",
    "rfc_var = rfc_var.sort_values(by=[0], ascending = False)\n",
    "\n",
    "# grafico los resultados de las características\n",
    "rfc_var.plot.bar(legend = None,           \n",
    "                 figsize = (12,4), \n",
    "                 rot = 0,\n",
    "                 xlabel = \"Caracteristicas\",\n",
    "                 ylabel = \"%\",\n",
    "                 title = \"¿Cuáles son las características más importantes para el modelo?\",\n",
    "                 color = '#32127a')\n",
    "plt.show()"
   ]
  },
  {
   "cell_type": "markdown",
   "metadata": {},
   "source": [
    "**Observaciones:**\n",
    "1) **La precisión y recall son altos para smart pero bajos para ultra**, el bosque es bueno para determinar los usuarios smart con una precisión de 80% y encuentra el 81% de los casos.\n",
    "\n",
    "2) **Podemos ver que el modelo es bueno para encontrar los verdaderos positivos**, sin embargo también es cierto que hay una cantidad importante de falsos positivos y falsos negativos.\n",
    "\n",
    "3) **Para el mejor bosque la característica más importante son las Mb y las llamadas**, luego los minutos y por ultimo los mensajes.\n",
    "\n",
    "**Conclusiones:**\n",
    "- Exactitud con datos de **validación: 79.16%**\n",
    "- Exactitud con datos de **prueba: 77.14%**\n",
    "- Precisión (smart = 0.83, ultra = 0.20)\n",
    "- Recall (smart=  0.81, ultra = 0.23)\n"
   ]
  },
  {
   "cell_type": "markdown",
   "metadata": {},
   "source": [
    "Solo para esatar seguros **evaluaremos los datos de prueba en el mejor arbol:**\n",
    "\n",
    "\n",
    "Hiperpárametros árbol:\n",
    "- Profundidad: 15 \n",
    "- Caracteristicas: 4\n",
    "- Hojas: 10\n",
    "- Exactitud del árbol para el set de validación: 76.98%"
   ]
  },
  {
   "cell_type": "code",
   "execution_count": 22,
   "metadata": {},
   "outputs": [
    {
     "name": "stdout",
     "output_type": "stream",
     "text": [
      "Exactitud del bosque para el set de prueba: 76.52%\n"
     ]
    }
   ],
   "source": [
    "# defino árbol de decisión con los mejore hiperparámetros\n",
    "\n",
    "dtc = DecisionTreeClassifier(\n",
    "    max_depth=15,                                            # rango de profundidad 15 niveles\n",
    "    min_samples_leaf=10,                                     # hojas a probar 10\n",
    "    max_features=4,                                          # caracteristicas a considerar 1 a 4\n",
    "    random_state=300)                              \n",
    "\n",
    "dtc.fit(features_train, target_train)                          # entrar el modelo \n",
    "dtc_predictions_test = dtc.score(features_test, target_test)   # predicciones con datos de prueba\n",
    "\n",
    "print(\"Exactitud del bosque para el set de prueba:\", float_formatter(dtc_predictions_test)) "
   ]
  },
  {
   "cell_type": "markdown",
   "metadata": {},
   "source": [
    "**Conclusión:** la exactitud del árbol es muy parecida al bosque sin embargo, el último nos ofrece mayor exactitud, el bosque será el modelo recomendado."
   ]
  },
  {
   "cell_type": "markdown",
   "metadata": {},
   "source": [
    "<div class=\"alert alert-block alert-success\">\n",
    "<b>Comentario del revisor  </b> <a class=\"tocSkip\"></a>\n",
    "    \n",
    "Excelente, muy buen trabajo Sebastián. Desarrollas de muy buena manera esta sección de medición de la calidad del modelo con los datos de prueba. Muy interesante también que muestres el nivel de importancia de las caracteriticas dentro del modelo. </div>"
   ]
  },
  {
   "cell_type": "markdown",
   "metadata": {},
   "source": [
    "### Prueba de cordura:"
   ]
  },
  {
   "cell_type": "markdown",
   "metadata": {},
   "source": [
    "#### Es mejor asignar los usuarios por una base?"
   ]
  },
  {
   "cell_type": "code",
   "execution_count": 23,
   "metadata": {},
   "outputs": [
    {
     "name": "stdout",
     "output_type": "stream",
     "text": [
      "Exactitud del bosque para el set de validación: 79.16%\n",
      "Exactitud del bosque para el set de prueba: 77.14%\n",
      "Exactitud del bosque para todo smart: 67.50%\n",
      "Exactitud del bosque para todo ultra: 32.50%\n",
      "Exactitud del bosque para random: 48.83%\n"
     ]
    }
   ],
   "source": [
    "# creo test 0 y 1 para predecir si los valores solo son 0 o 1\n",
    "test_0 = [0] * len(target_test)\n",
    "test_1 = [1] * len(target_test)\n",
    "\n",
    "#creo un set de objetivo con valores altetorios \n",
    "np.random.seed(300)\n",
    "test_rand = np.random.choice([0, 1], size=len(target_test))\n",
    "\n",
    "\n",
    "print(\"Exactitud del bosque para el set de validación:\", float_formatter(rfc_predictions_valid)) \n",
    "print(\"Exactitud del bosque para el set de prueba:\", float_formatter(rfc_predictions_test)) \n",
    "print(\"Exactitud del bosque para todo smart:\", float_formatter(accuracy_score(target_test, test_0)))\n",
    "print(\"Exactitud del bosque para todo ultra:\", float_formatter(accuracy_score(target_test, test_1)))\n",
    "print(\"Exactitud del bosque para random:\", float_formatter(accuracy_score(target_test, test_rand)))"
   ]
  },
  {
   "cell_type": "markdown",
   "metadata": {},
   "source": [
    "**Observaciones:** El modelo es mejor que recomendar a todos un plan o hacerlo al azar, esto lo podemos analizar de otra forma más simple."
   ]
  },
  {
   "cell_type": "code",
   "execution_count": 24,
   "metadata": {},
   "outputs": [
    {
     "name": "stdout",
     "output_type": "stream",
     "text": [
      "Usuarios ultra: 32.50%\n",
      "Usuarios smart: 67.50%\n"
     ]
    }
   ],
   "source": [
    "# cuantos usuarios son ulrta contra smart? obtengo el porcentaje con datos de prueba \n",
    "print('Usuarios ultra:', float_formatter(target_test.sum()/len(target_test)))\n",
    "print('Usuarios smart:', float_formatter(1-(target_test.sum()/len(target_test))))"
   ]
  },
  {
   "cell_type": "markdown",
   "metadata": {},
   "source": [
    "**Observación:** podemos comprobar los resultados anteriores en porcentajes, ahora se probara una muestra de los datos originales"
   ]
  },
  {
   "cell_type": "code",
   "execution_count": 25,
   "metadata": {},
   "outputs": [
    {
     "name": "stdout",
     "output_type": "stream",
     "text": [
      "Predicciones datos de prueba % ultra (modelo): 17.11%\n"
     ]
    }
   ],
   "source": [
    "# predicciones con datos de prueba en bosque\n",
    "y_test = rfc.predict(features_test)\n",
    "\n",
    "print(\"Predicciones datos de prueba % ultra (modelo):\",float_formatter(y_test.sum()/len(y_test)))"
   ]
  },
  {
   "cell_type": "code",
   "execution_count": 26,
   "metadata": {},
   "outputs": [
    {
     "name": "stdout",
     "output_type": "stream",
     "text": [
      "Usuarios ultra datos originales (muestra): 24.00%\n"
     ]
    }
   ],
   "source": [
    "#para comprobar usare una muestra de 100 usuarios vs las predicciones del modelo\n",
    "#una muestra de 100 usuarios del set original \n",
    "check = plan.sample(100, random_state=300)\n",
    "print('Usuarios ultra datos originales (muestra):',float_formatter(check['is_ultra'].sum()/100))"
   ]
  },
  {
   "cell_type": "markdown",
   "metadata": {},
   "source": [
    "**Observaciones:** \n",
    "\n",
    "1) Si asignamos 100% **ultra a todos los usuarios solo acertaríamos 32.5%** de ellos mismos.\n",
    "\n",
    "2) Si asignamos 100% **smart a todos los usuarios acertaríamos 67.5%** de los mismos.\n",
    "\n",
    "3) **Para una muestra de 100 usuarios la predicción de nuestro modelo es más cercana -6.9%** que asignar a todos ultra.\n"
   ]
  },
  {
   "cell_type": "markdown",
   "metadata": {},
   "source": [
    "#### Es mejor DummyClassifier que nuestro modelo?"
   ]
  },
  {
   "cell_type": "code",
   "execution_count": 27,
   "metadata": {},
   "outputs": [
    {
     "data": {
      "image/png": "[encoded data removed]",
      "text/plain": [
       "<Figure size 864x360 with 1 Axes>"
      ]
     },
     "metadata": {
      "needs_background": "light"
     },
     "output_type": "display_data"
    }
   ],
   "source": [
    "# defino dummy para los datos de prueba, y encontrar si el mejor vence al modelo\n",
    "dummy_case = ['most_frequent', 'prior', 'stratified', 'uniform', 'constant']\n",
    "\n",
    "# creo case score para almacenar los resultados\n",
    "case_score = []                            \n",
    "\n",
    "for case in dummy_case:                              # creo for para dummy_case\n",
    "    dummy = DummyClassifier(                  \n",
    "        strategy=case,                                     \n",
    "        constant=0,\n",
    "        random_state=300\n",
    "    )\n",
    "    \n",
    "    # entro el modelo con los datos de prueba y obtengo su exactitud\n",
    "    dummy.fit(features_test, target_test)\n",
    "    accuracy = dummy.score(features_test, target_test)\n",
    "    case_score.append(accuracy)                         # agregar a la lista case_score\n",
    "    \n",
    "    \n",
    "dummy_case += ['forest']                                # agrego el bosque para poder graficar\n",
    "case_score += [0.7714]                                  # exactitud datos de prueba bosque\n",
    "\n",
    "\n",
    "fig, ax = plt.subplots(figsize=(12, 5))                 # defino el tamaño de la grafica\n",
    "\n",
    "\n",
    "# defino los colores a usar en las barras\n",
    "color = ['#d3d3d3','#d3d3d3','#d3d3d3','#d3d3d3','#d3d3d3','#32127a']\n",
    "\n",
    "\n",
    "# creo la gráfica y agrego etiquetas, títulos, línea de referencia ..ect\n",
    "ax = sb.barplot(x = dummy_case, y =case_score, palette=color) \n",
    "ax.set(xlabel ='caso dummy | Umbral mínimo = 75%', ylabel ='Exactitud')\n",
    "ax.set_ylim(0, 0.8)\n",
    "ax.axhline(0.75)\n",
    "plt.title(\"Exactitud de los modelos dummy vs bosque\")\n",
    "\n",
    "\n",
    "plt.show() "
   ]
  },
  {
   "cell_type": "markdown",
   "metadata": {},
   "source": [
    "<div class=\"alert alert-block alert-success\">\n",
    "<b>Comentario del revisor</b> <a class=\"tocSkip\"></a>\n",
    "    \n",
    "Excelente, muy buen trabajo desarrollando esta sección de prueba de cordura, realmente interesantes todos los casos de cordura que usas para realizar un contraste con el modelo seleccionado. </div>"
   ]
  },
  {
   "cell_type": "markdown",
   "metadata": {},
   "source": [
    "**Conclusiones:**\n",
    "\n",
    "1) **No es mejor que el modelo asignar a los usuarios por un porcentaje estable** (32% ultra o 68% smart).\n",
    "\n",
    "2) Se evaluaron **casos con Dummy Classifier** para verificar si alguno era mejor que nuestro modelo, **ninguno cumplió el umbral requerido de 75%**\n",
    "\n",
    "3) Podemos notar que **en los planes hay un desequilibrio en las clases.** Por lo que hacer asignaciones equivalentes o aleatorias perjudica la exactitud.\n",
    "\n",
    "4) El **modelo recomendado para megaline es el bosque aleatorio.**"
   ]
  },
  {
   "cell_type": "markdown",
   "metadata": {},
   "source": [
    "### **Conclusion del proyecto:**"
   ]
  },
  {
   "cell_type": "markdown",
   "metadata": {},
   "source": [
    "**El modelo recomendado para Megaline es el bosque aleatorio con los hiperparametros:**\n",
    "\n",
    "**Sin embargo se incrementa la exactitud a un costo de menor rendimiento**\n",
    "\n",
    "- n_estimators = 9\n",
    "- max_depth = 5 \n",
    "- min_samples_leaf = 5 \n",
    "- max_features = 4\n",
    "\n",
    "\n",
    "**1) Extracción de datos:**\n",
    "\n",
    "En primer lugar se analizaron los datos sobre el comportamiento de los suscriptores que ya se han cambiado a los planes nuevos (del proyecto del sprint de Análisis estadístico de datos).\n",
    "\n",
    "\n",
    "**2) Segmentar los datos fuente:**\n",
    "\n",
    "- Los datos se segmentaron en **60% para entrenamiento, 20% prueba y 20% validación** de la tabla original.\n",
    "- **Características** definidas para el modelo: **calls, minutes,messages y mb_used.**\n",
    "- El **objetivo de predicción** es la columna **is_ultra.**\n",
    "\n",
    "\n",
    "**3) Investiga la calidad de diferentes modelos:**\n",
    "\n",
    "**3.1) Árbol de Decision:**\n",
    "- Mejores hiperparametors: **(max_depth = 15, min_samples_leaf = 10, max_features = 4).**\n",
    "- Exactitud más alta **los datos de validación 76.98%.**\n",
    "- **El modelo cumple con el umbral de exactitud (75%)** - **Modelo a probar.**\n",
    "\n",
    "**3.2) Bosque Aleatorio:**\n",
    "\n",
    "- Mejores hiperparametors: **(n_estimators = 9, max_depth = 5, min_samples_leaf = 5, max_features = 4).**  \n",
    "- Exactitud más alta en **los datos de validación 79.16%.** \n",
    "- **Es mejor que la exactitud del mejor árbol** - **Modelo a probar**.\n",
    "\n",
    "\n",
    "**3.3) Regresión logística**\n",
    "- **La mejor regresión logística no cumple con el umbral** de exactitud de 75% - **Modelo descartado.** \n",
    "\n",
    "\n",
    "**4) Comprueba la calidad del modelo usando los datos de prueba:**\n",
    "\n",
    "- **La precisión y recall son altos para smart** pero bajos para ultra.\n",
    "\n",
    "- El modelo es **confiable para encontrar los verdaderos positivos y verdaderos negativos.**\n",
    "\n",
    "- **Para el mejor bosque la característica más importante son las Mb y las llamadas**, luego los minutos y por ultimo los mensajes.\n",
    "\n",
    "- **Se descarto el mejor árbol** con datos de prueba, exactitud de 76.52% (menor al bosque).\n",
    "\n",
    "**Conclusiones datos de prueba:**\n",
    "- Exactitud con datos de validación: 79.16%\n",
    "- Exactitud con datos de prueba: 77.14% \n",
    "- Precisión (smart = 0.83, ultra = 0.20)\n",
    "- Recall (smart=  0.81, ultra = 0.23)\n",
    "\n",
    "**5) Prueba de cordura:**\n",
    "- No es mejor asignar a los usuarios por un porcentaje estable (32% ultra o 68% smart) o de forma aleatoria.\n",
    "- Se evaluaron **casos con Dummy Classifier ninguno vence al modelo recomendado.**"
   ]
  },
  {
   "cell_type": "markdown",
   "metadata": {},
   "source": [
    "<div class=\"alert alert-block alert-success\">\n",
    "<b>Comentario del revisor </b> <a class=\"tocSkip\"></a>\n",
    "    \n",
    "Muy buen trabajo con la sección de conclusiones Sebastian.  </div>"
   ]
  }
 ],
 "metadata": {
  "kernelspec": {
   "display_name": "Python 3 (ipykernel)",
   "language": "python",
   "name": "python3"
  },
  "language_info": {
   "codemirror_mode": {
    "name": "ipython",
    "version": 3
   },
   "file_extension": ".py",
   "mimetype": "text/x-python",
   "name": "python",
   "nbconvert_exporter": "python",
   "pygments_lexer": "ipython3",
   "version": "3.9.5"
  },
  "toc": {
   "base_numbering": 1,
   "nav_menu": {},
   "number_sections": true,
   "sideBar": true,
   "skip_h1_title": true,
   "title_cell": "Tabla de Contenido:",
   "title_sidebar": "Tabla de Contenido:",
   "toc_cell": true,
   "toc_position": {},
   "toc_section_display": true,
   "toc_window_display": true
  }
 },
 "nbformat": 4,
 "nbformat_minor": 2
}
